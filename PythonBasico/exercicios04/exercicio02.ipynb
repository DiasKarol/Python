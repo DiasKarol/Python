{
 "cells": [
  {
   "attachments": {},
   "cell_type": "markdown",
   "metadata": {},
   "source": [
    "Exercício 005-3:\n",
    "Faça um programa que leia uma string e remova todas as suas vogais. Considere que o usuário digitará apenas palavras (strings) sem acento.\n",
    "Entrada:\n",
    "•\tA entrada contém uma única string, sem acento, que pode ter letras maiúsculas ou minúsculas.\n",
    "Saída:\n",
    "•\tSeu programa deve imprimir na tela a string resultante da exclusão de todas as suas vogais. Se o usuário digitar uma palavra que contém apenas vogais, o programa deve imprimir a string vazia (“”), o que corresponde a uma saída “em branco”.\n",
    "Exemplos:\n",
    "Entrada\t            Saída\n",
    "BMW\t                BMW\n",
    "Pindamonhangaba\t    Pndmnhngb\n",
    "uai\t"
   ]
  },
  {
   "cell_type": "code",
   "execution_count": 9,
   "metadata": {},
   "outputs": [
    {
     "name": "stdout",
     "output_type": "stream",
     "text": [
      "nds\n"
     ]
    }
   ],
   "source": [
    "word = input('Introduza uma palavra: ')\n",
    "word = word.lower()\n",
    "\n",
    "newWord = ''\n",
    "\n",
    "for i in list(word):\n",
    "    if (i != 'a') and (i != 'e') and (i != 'i') and (i != 'o') and (i != 'u'):\n",
    "        newWord += i\n",
    "        \n",
    "print(newWord)"
   ]
  }
 ],
 "metadata": {
  "kernelspec": {
   "display_name": "Python 3",
   "language": "python",
   "name": "python3"
  },
  "language_info": {
   "codemirror_mode": {
    "name": "ipython",
    "version": 3
   },
   "file_extension": ".py",
   "mimetype": "text/x-python",
   "name": "python",
   "nbconvert_exporter": "python",
   "pygments_lexer": "ipython3",
   "version": "3.10.6 (tags/v3.10.6:9c7b4bd, Aug  1 2022, 21:53:49) [MSC v.1932 64 bit (AMD64)]"
  },
  "orig_nbformat": 4,
  "vscode": {
   "interpreter": {
    "hash": "369f2c481f4da34e4445cda3fffd2e751bd1c4d706f27375911949ba6bb62e1c"
   }
  }
 },
 "nbformat": 4,
 "nbformat_minor": 2
}
