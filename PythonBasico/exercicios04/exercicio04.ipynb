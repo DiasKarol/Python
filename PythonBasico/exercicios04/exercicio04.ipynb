{
 "cells": [
  {
   "cell_type": "code",
   "execution_count": null,
   "metadata": {},
   "outputs": [],
   "source": []
  },
  {
   "attachments": {},
   "cell_type": "markdown",
   "metadata": {},
   "source": [
    "Exercício 005-5:\n",
    "Um pantograma ou pangrama (do grego, pan ou pantós = todos, + grama = letra) é uma frase em que são usadas todas as letras do alfabeto de determinada língua.\n",
    "Crie um programa que permita verificar se uma frase é ou não um pantograma. Considere que o usuário digitará apenas uma frase.\n",
    "Entrada:\n",
    "A entrada contém uma frase sem acentos que pode ter letras maiúsculas ou minúsculas, ou sinais de pontuação.\n",
    "Saída:\n",
    "O programa deve imprimir SIM se a frase corresponde a um pantograma. Caso contrário, o programa deve imprimir NAO (sem acento).\n",
    "Exemplos:\n",
    "Entrada\t                                    Saída\n",
    "Quem traz CD, LP, fax, engov e whisky JB?\tSIM\n",
    "Esta frase nao eh um pantograma\t            NAO"
   ]
  },
  {
   "cell_type": "code",
   "execution_count": 10,
   "metadata": {},
   "outputs": [
    {
     "name": "stdout",
     "output_type": "stream",
     "text": [
      "SIM\n"
     ]
    }
   ],
   "source": [
    "import string\n",
    "phrase = input('Informe a frase: ')\n",
    "phrase = phrase.lower()\n",
    "\n",
    "alphabet = list(string.ascii_lowercase)\n",
    "\n",
    "for i in range(len(phrase)):\n",
    "    if phrase[i] in alphabet:\n",
    "        alphabet.remove(phrase[i])\n",
    "\n",
    "if len(alphabet) == 0:\n",
    "    print('SIM')\n",
    "else:\n",
    "    print('NAO')\n",
    "\n"
   ]
  }
 ],
 "metadata": {
  "kernelspec": {
   "display_name": "Python 3",
   "language": "python",
   "name": "python3"
  },
  "language_info": {
   "codemirror_mode": {
    "name": "ipython",
    "version": 3
   },
   "file_extension": ".py",
   "mimetype": "text/x-python",
   "name": "python",
   "nbconvert_exporter": "python",
   "pygments_lexer": "ipython3",
   "version": "3.10.6 (tags/v3.10.6:9c7b4bd, Aug  1 2022, 21:53:49) [MSC v.1932 64 bit (AMD64)]"
  },
  "orig_nbformat": 4,
  "vscode": {
   "interpreter": {
    "hash": "369f2c481f4da34e4445cda3fffd2e751bd1c4d706f27375911949ba6bb62e1c"
   }
  }
 },
 "nbformat": 4,
 "nbformat_minor": 2
}
