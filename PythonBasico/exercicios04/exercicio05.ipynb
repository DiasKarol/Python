{
 "cells": [
  {
   "attachments": {},
   "cell_type": "markdown",
   "metadata": {},
   "source": [
    "Exercício 005-6:\n",
    "Faça um programa que lê uma string e conta o número de vogais, consoantes, espaços e pontuações (caracteres “.”,“,”,“!”,“?”,\"-\").\n",
    "Observação: é proibido o uso de funções auxiliares, como o  count(), por exemplo.\n",
    "Entrada:\n",
    "Uma string podendo conter apenas vogais, consoantes, espaços e pontuações (caracteres “.”,“,”,“!”,“?”,\"-\").\n",
    "Saída\n",
    "A saída do programa deve ser a porcentagem de cada tipo de caractere na string, com 2 casas após a vírgula.\n",
    "Exemplos:\n",
    "Entrada\t                Saída\n",
    "Um exercicio facil!\t    Vogais: 42.11%\n",
    "                        Consoantes: 42.11%\n",
    "                        Espacos: 10.53%\n",
    "                        Pontuacoes: 5.26%\n"
   ]
  },
  {
   "cell_type": "code",
   "execution_count": 4,
   "metadata": {},
   "outputs": [
    {
     "name": "stdout",
     "output_type": "stream",
     "text": [
      "Vogais: 20.00%\n",
      "Consoantes: 50.00%\n",
      "Espacos: 10.00%\n",
      "Pontuacoes: 20.00%\n"
     ]
    }
   ],
   "source": [
    "phrase = input('Informe a frase: ')\n",
    "\n",
    "vowels = 0 #Vogais\n",
    "consonants = 0\n",
    "spaces = 0\n",
    "pointing = 0 #pontuação\n",
    "\n",
    "for i in range(len(phrase)):\n",
    "    if phrase[i].isalpha():\n",
    "        if phrase[i] in 'aeiou':\n",
    "            vowels +=1\n",
    "        else:\n",
    "            consonants +=1 \n",
    "    elif phrase[i] == ' ':\n",
    "        spaces +=1\n",
    "    elif phrase[i] in [\".\", \",\", \"!\", \"?\", \"-\"]:\n",
    "        pointing +=1\n",
    "\n",
    "phraseLen = len(phrase)\n",
    "vowelsPercente = (vowels / phraseLen) * 100\n",
    "consonantsPercente = (consonants / phraseLen) * 100\n",
    "spacesPercente = (spaces / phraseLen) * 100\n",
    "pointingPercente = (pointing / phraseLen) * 100 \n",
    "\n",
    "print(f'Vogais: {vowelsPercente:.2f}%\\nConsoantes: {consonantsPercente:.2f}%\\nEspacos: {spacesPercente:.2f}%\\nPontuacoes: {pointingPercente:.2f}%')"
   ]
  }
 ],
 "metadata": {
  "kernelspec": {
   "display_name": "Python 3",
   "language": "python",
   "name": "python3"
  },
  "language_info": {
   "codemirror_mode": {
    "name": "ipython",
    "version": 3
   },
   "file_extension": ".py",
   "mimetype": "text/x-python",
   "name": "python",
   "nbconvert_exporter": "python",
   "pygments_lexer": "ipython3",
   "version": "3.10.6 (tags/v3.10.6:9c7b4bd, Aug  1 2022, 21:53:49) [MSC v.1932 64 bit (AMD64)]"
  },
  "orig_nbformat": 4,
  "vscode": {
   "interpreter": {
    "hash": "369f2c481f4da34e4445cda3fffd2e751bd1c4d706f27375911949ba6bb62e1c"
   }
  }
 },
 "nbformat": 4,
 "nbformat_minor": 2
}
