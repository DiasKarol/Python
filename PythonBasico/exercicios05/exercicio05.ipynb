{
 "cells": [
  {
   "attachments": {},
   "cell_type": "markdown",
   "metadata": {},
   "source": [
    "Exercício 004-5: Palíndromos são palavras ou frases que podem ser lidas da esquerda para a direita ou da direita para a esquerda (pular os espaços ou pontuação). \n",
    "Escreva um programa que verifique se uma dada palavra é um palíndromo.\n",
    "Entrada:\n",
    "•\tA entrada contém uma única palavra.\n",
    "Saída:\n",
    "•\tO seu programa deve imprimir PALINDROMO, se a palavra recebida for um palíndromo, e NAO PALINDROMO, caso contrário.\n",
    "Exemplos: \n",
    "Entrada\t    Saída\n",
    "arara\t    PALINDROMO\n",
    "hoje\t    NAO PALINDROMO"
   ]
  },
  {
   "cell_type": "code",
   "execution_count": 6,
   "metadata": {},
   "outputs": [
    {
     "name": "stdout",
     "output_type": "stream",
     "text": [
      "PALINDROMO\n"
     ]
    }
   ],
   "source": [
    "word = input('Informe a palavra: ')\n",
    "drow = word[::-1]\n",
    "\n",
    "if word == drow:\n",
    "    print('PALINDROMO')\n",
    "else:\n",
    "    print('NAO PALINDROMO')"
   ]
  },
  {
   "cell_type": "code",
   "execution_count": 16,
   "metadata": {},
   "outputs": [
    {
     "name": "stdout",
     "output_type": "stream",
     "text": [
      "NAO PALINDROMO\n"
     ]
    }
   ],
   "source": [
    "import re\n",
    "\n",
    "inputWord = input('Informe a palavra: ')\n",
    "word = re.sub(r'[^\\w\\s]', '', inputWord).replace(\" \", \"\").upper()\n",
    "#re.sub(r'[^\\w\\s]', '', inputWord) -> removi as pontuações\n",
    "#replace(\" \", \"\") -> removi os espaçoes\n",
    "drow = word[::-1].upper()\n",
    "\n",
    "if word == drow:\n",
    "    print('PALINDROMO')\n",
    "else:\n",
    "    print('NAO PALINDROMO')"
   ]
  }
 ],
 "metadata": {
  "kernelspec": {
   "display_name": "Python 3",
   "language": "python",
   "name": "python3"
  },
  "language_info": {
   "codemirror_mode": {
    "name": "ipython",
    "version": 3
   },
   "file_extension": ".py",
   "mimetype": "text/x-python",
   "name": "python",
   "nbconvert_exporter": "python",
   "pygments_lexer": "ipython3",
   "version": "3.10.6 (tags/v3.10.6:9c7b4bd, Aug  1 2022, 21:53:49) [MSC v.1932 64 bit (AMD64)]"
  },
  "orig_nbformat": 4,
  "vscode": {
   "interpreter": {
    "hash": "369f2c481f4da34e4445cda3fffd2e751bd1c4d706f27375911949ba6bb62e1c"
   }
  }
 },
 "nbformat": 4,
 "nbformat_minor": 2
}
