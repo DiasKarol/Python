{
 "cells": [
  {
   "attachments": {},
   "cell_type": "markdown",
   "metadata": {},
   "source": [
    "Exercício 005-2: Faça um programa que lê duas strings e imprime quais letras existem nas duas strings. Transformar tudo em maiúsculas com o método texto.upper(). Exemplos:\n",
    "Entrada\t            Saída\n",
    "\n",
    "Paulo Marcotti\n",
    "Paula Cotinha\t    P A U L A C O T T I\n",
    "\n",
    "TESTE\n",
    "LESMA\t            E S E"
   ]
  },
  {
   "cell_type": "code",
   "execution_count": 2,
   "metadata": {},
   "outputs": [
    {
     "name": "stdout",
     "output_type": "stream",
     "text": [
      "P A U L A C O T T I\n"
     ]
    }
   ],
   "source": [
    "str1 = input('Informe duas frases: ').upper()\n",
    "str2 = input('Informe duas frases novamente: ').upper()\n",
    "str1 = str1.split(' ') #a partir deste momento, as duas variaveis (str) se tornam um vetor\n",
    "str2 = str2.split(' ')\n",
    "\n",
    "result = []\n",
    "\n",
    "for i in range(len(str1)):\n",
    "    string1 = str1[i]\n",
    "    string2 = str2[i]\n",
    "    for letter in string1:\n",
    "        if letter in string2:\n",
    "            result.append(letter)\n",
    "\n",
    "resultAnd = ' '.join(result)\n",
    "print(resultAnd)\n"
   ]
  }
 ],
 "metadata": {
  "kernelspec": {
   "display_name": "Python 3",
   "language": "python",
   "name": "python3"
  },
  "language_info": {
   "codemirror_mode": {
    "name": "ipython",
    "version": 3
   },
   "file_extension": ".py",
   "mimetype": "text/x-python",
   "name": "python",
   "nbconvert_exporter": "python",
   "pygments_lexer": "ipython3",
   "version": "3.10.6 (tags/v3.10.6:9c7b4bd, Aug  1 2022, 21:53:49) [MSC v.1932 64 bit (AMD64)]"
  },
  "orig_nbformat": 4,
  "vscode": {
   "interpreter": {
    "hash": "369f2c481f4da34e4445cda3fffd2e751bd1c4d706f27375911949ba6bb62e1c"
   }
  }
 },
 "nbformat": 4,
 "nbformat_minor": 2
}
