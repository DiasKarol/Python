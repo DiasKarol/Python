{
 "cells": [
  {
   "attachments": {},
   "cell_type": "markdown",
   "metadata": {},
   "source": [
    "Exercício 005-1: Crie um programa que leia um texto e inverte todas as letras e imprima o resultado. Não deve usar mais de uma string, apenas usar a mesma variável string que leu.\n",
    "Exemplos\n",
    "Entrada\t            Saída\n",
    "Paulo Marcotti\t    ittocraM oluaP\n",
    "Uecnev neK\t        Ken venceu"
   ]
  },
  {
   "cell_type": "code",
   "execution_count": 1,
   "metadata": {},
   "outputs": [
    {
     "name": "stdout",
     "output_type": "stream",
     "text": [
      "lena\n"
     ]
    }
   ],
   "source": [
    "phrase = input('Informe a frase: ')\n",
    "phrase = phrase[::-1]\n",
    "\n",
    "print(phrase)"
   ]
  }
 ],
 "metadata": {
  "kernelspec": {
   "display_name": "Python 3",
   "language": "python",
   "name": "python3"
  },
  "language_info": {
   "codemirror_mode": {
    "name": "ipython",
    "version": 3
   },
   "file_extension": ".py",
   "mimetype": "text/x-python",
   "name": "python",
   "nbconvert_exporter": "python",
   "pygments_lexer": "ipython3",
   "version": "3.10.6 (tags/v3.10.6:9c7b4bd, Aug  1 2022, 21:53:49) [MSC v.1932 64 bit (AMD64)]"
  },
  "orig_nbformat": 4,
  "vscode": {
   "interpreter": {
    "hash": "369f2c481f4da34e4445cda3fffd2e751bd1c4d706f27375911949ba6bb62e1c"
   }
  }
 },
 "nbformat": 4,
 "nbformat_minor": 2
}
