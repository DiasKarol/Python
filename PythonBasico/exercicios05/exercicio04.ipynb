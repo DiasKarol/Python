{
 "cells": [
  {
   "attachments": {},
   "cell_type": "markdown",
   "metadata": {},
   "source": [
    "Exercício 004-4: Escreva um programa que verifica o uso correto de parênteses em uma equação. \n",
    "Para os fins deste exercício, consideramos que o uso de parênteses foi empregado de forma adequada se cada ( possui o seu respectivo ).\n",
    "Entrada:\n",
    "•\tA entrada contém uma única linha com a descrição de uma equação.\n",
    "Saída:\n",
    "•\tO seu programa deve imprimir Erro na parentizacao, se o uso de parêntese não foi empregado corretamente, e Parentizacao correta, caso contrário.\n",
    "Exemplos:\n",
    "Entrada\t                                Saída\n",
    "8 + ( 9 + 10)\t                        Parentizacao correta\n",
    "((9 + (5 + 8) + 10) + (3 + 10)) + 5\t    Parentizacao correta\n",
    "3 * (8 + (5 * 9 ^ 8) + 3\t            Erro na parentizacao\n",
    "34 + 34\t                                Parentizacao correta"
   ]
  },
  {
   "cell_type": "code",
   "execution_count": 11,
   "metadata": {},
   "outputs": [
    {
     "name": "stdout",
     "output_type": "stream",
     "text": [
      "Erro na parentizacao\n"
     ]
    }
   ],
   "source": [
    "line = input('Informe a equação: ')\n",
    "\n",
    "parentingOpen = []\n",
    "parentingClose = []\n",
    "\n",
    "for i in range(len(line)):\n",
    "    if line[i] in '([{':\n",
    "        parentingOpen.append(line[i])\n",
    "    if line[i] in ')':\n",
    "        parentingClose.append(line[i])\n",
    "\n",
    "if len(parentingOpen) == len(parentingClose):\n",
    "    print('Parentizacao correta')\n",
    "else:\n",
    "    print('Erro na parentizacao')"
   ]
  }
 ],
 "metadata": {
  "kernelspec": {
   "display_name": "Python 3",
   "language": "python",
   "name": "python3"
  },
  "language_info": {
   "codemirror_mode": {
    "name": "ipython",
    "version": 3
   },
   "file_extension": ".py",
   "mimetype": "text/x-python",
   "name": "python",
   "nbconvert_exporter": "python",
   "pygments_lexer": "ipython3",
   "version": "3.10.6 (tags/v3.10.6:9c7b4bd, Aug  1 2022, 21:53:49) [MSC v.1932 64 bit (AMD64)]"
  },
  "orig_nbformat": 4,
  "vscode": {
   "interpreter": {
    "hash": "369f2c481f4da34e4445cda3fffd2e751bd1c4d706f27375911949ba6bb62e1c"
   }
  }
 },
 "nbformat": 4,
 "nbformat_minor": 2
}
