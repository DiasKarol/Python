{
 "cells": [
  {
   "attachments": {},
   "cell_type": "markdown",
   "metadata": {},
   "source": [
    "Exercício 005-3: Ler um nome completo, com vários nomes e sobrenomes. Extrair o último sobrenome (verificar o separador espaço entre os nomes). Colocar as iniciais dos nomes anteriores, exceto o último sobrenome, em que cada inicial em maiúscula e acompanhada com um ponto. Lembrar de colocar uma vírgula entre o último sobrenome e as iniciais. Isto é a formação de nomes de autores em citações no padrão ABNT.\n",
    "Exemplos:\n",
    "Entrada\t                        Saída\n",
    "Paulo Marcotti\t                Marcotti, P.\n",
    "Joaquim José Silva Xavier\t    Xavier, J. J. S.\n",
    "Pedro Alvares Cabral\t        Cabral, P. A."
   ]
  },
  {
   "cell_type": "code",
   "execution_count": 7,
   "metadata": {},
   "outputs": [
    {
     "name": "stdout",
     "output_type": "stream",
     "text": [
      "Dias, A. K. O.\n"
     ]
    }
   ],
   "source": [
    "name = input('Nome completo: ')\n",
    "name = name.split(' ')\n",
    "\n",
    "lastName = name.pop()\n",
    "lastName = lastName.capitalize()\n",
    "\n",
    "result = []\n",
    "\n",
    "for i in name: \n",
    "    initial = i\n",
    "    result.append(initial[0].upper())\n",
    "\n",
    "andResult = '. '.join(result)\n",
    "print(f'{lastName}, {andResult}.')"
   ]
  }
 ],
 "metadata": {
  "kernelspec": {
   "display_name": "Python 3",
   "language": "python",
   "name": "python3"
  },
  "language_info": {
   "codemirror_mode": {
    "name": "ipython",
    "version": 3
   },
   "file_extension": ".py",
   "mimetype": "text/x-python",
   "name": "python",
   "nbconvert_exporter": "python",
   "pygments_lexer": "ipython3",
   "version": "3.10.6 (tags/v3.10.6:9c7b4bd, Aug  1 2022, 21:53:49) [MSC v.1932 64 bit (AMD64)]"
  },
  "orig_nbformat": 4,
  "vscode": {
   "interpreter": {
    "hash": "369f2c481f4da34e4445cda3fffd2e751bd1c4d706f27375911949ba6bb62e1c"
   }
  }
 },
 "nbformat": 4,
 "nbformat_minor": 2
}
