{
 "cells": [
  {
   "attachments": {},
   "cell_type": "markdown",
   "metadata": {},
   "source": [
    "Exercício 003- 4:.Crie um programa que permita imprimir uma representação de um tabuleiro de xadrez.\n",
    "Entrada:\n",
    "O programa recebe um número inteiro, maior ou igual a 1, que indica a dimensão do tabuleiro.\n",
    "Saída:\n",
    "O programa deve desenhar o tabuleiro com dois caracteres que representam as divisões em cores diferentes\n",
    "conforme exemplos apresentados a seguir. (dica: print(“x”,end=””) não muda de linha)\n",
    "Exemplos:\n",
    "Entrada     Saída\n",
    "3           oxo\n",
    "            xox\n",
    "            oxo"
   ]
  },
  {
   "cell_type": "code",
   "execution_count": 1,
   "metadata": {},
   "outputs": [
    {
     "name": "stdout",
     "output_type": "stream",
     "text": [
      "x\n"
     ]
    }
   ],
   "source": [
    "D = 1\n",
    "while (D <= 0):\n",
    "    try:\n",
    "        D = int(input('Informe a dimensão o tabuleiro de xadrez: '))\n",
    "    except ValueError:\n",
    "        print(\"Valor digitado deve ser inteiro\")\n",
    "        continue\n",
    "    if (D <= 1):\n",
    "        print ('Quantidade deve ser igual ou maior que 1')\n",
    "    else:\n",
    "        break\n",
    "\n",
    "for i in range(D):\n",
    "    for j in range(D):\n",
    "        if (i + j) % 2 == 0:\n",
    "            print('x', end='')\n",
    "        else:\n",
    "            print('o', end='')\n",
    "    print()"
   ]
  }
 ],
 "metadata": {
  "kernelspec": {
   "display_name": "Python 3",
   "language": "python",
   "name": "python3"
  },
  "language_info": {
   "codemirror_mode": {
    "name": "ipython",
    "version": 3
   },
   "file_extension": ".py",
   "mimetype": "text/x-python",
   "name": "python",
   "nbconvert_exporter": "python",
   "pygments_lexer": "ipython3",
   "version": "3.10.6 (tags/v3.10.6:9c7b4bd, Aug  1 2022, 21:53:49) [MSC v.1932 64 bit (AMD64)]"
  },
  "orig_nbformat": 4,
  "vscode": {
   "interpreter": {
    "hash": "369f2c481f4da34e4445cda3fffd2e751bd1c4d706f27375911949ba6bb62e1c"
   }
  }
 },
 "nbformat": 4,
 "nbformat_minor": 2
}
