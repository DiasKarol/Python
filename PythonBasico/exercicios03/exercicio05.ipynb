{
 "cells": [
  {
   "attachments": {},
   "cell_type": "markdown",
   "metadata": {},
   "source": [
    "Exercício 003-5: Ao observar a curva de velocidade de um motor, um engenheiro percebeu que sempre ocorria\n",
    "uma queda de velocidade quando medições eram feitas em intervalos de 10 ms. Após realizar alguns testes, ele observou que tais quedas não ocorriam necessariamente no mesmo momento. Intrigado pela falta de padrão, agora ele quer a sua ajuda para saber: dado um caso de teste, qual a primeira medição em que ocorreu uma queda de velocidade? \n",
    "Entrada: \n",
    "A primeira linha contém um número inteiro N (1 < N ≤ 100) representando a quantidade de medições de velocidade do motor em um determinado teste. Cada uma das próximas N linhas consiste de um único inteiro M (0 ≤ M ≤ 10000) representando o número de RPM (rotações por minuto) daquela medida.\n",
    "Saída:\n",
    "A saída é o índice da medição em que ocorreu a primeira queda de velocidade. Caso não aconteça nenhuma\n",
    "queda, o seu programa deve imprimir o número 0. (dica: não precisa armazenar os valores em nenhuma lista, já no mesmo instante da leitura deve ser feito o cálculo se o valor lido é menor que o número imediatamente anterior).\n",
    "Exemplos:\n",
    "Entrada     Saída\n",
    "3           3\n",
    "1\n",
    "4\n",
    "2\n"
   ]
  },
  {
   "cell_type": "code",
   "execution_count": 13,
   "metadata": {},
   "outputs": [
    {
     "name": "stdout",
     "output_type": "stream",
     "text": [
      "3\n"
     ]
    }
   ],
   "source": [
    "N = 1\n",
    "while (N <= 1):\n",
    "    try:\n",
    "        N = int(input('Informe quantas medições foram realizadas: '))\n",
    "    except ValueError:\n",
    "        print(\"Valor digitado deve ser inteiro\")\n",
    "        continue\n",
    "    if (N <= 1):\n",
    "        print ('Quantidade deve ser igual ou maior que 1')\n",
    "    else:\n",
    "        break\n",
    "\n",
    "fall = 0\n",
    "last_metering = 0\n",
    "has_fall = False\n",
    "\n",
    "for i in range(0, N):\n",
    "    metering = int(input(f'Informe a medição {i+1}: ')) #metering => medição\n",
    "    if (metering < last_metering) and (has_fall == False):\n",
    "        fall = i + 1\n",
    "        has_fall = True\n",
    "        \n",
    "    last_metering = metering\n",
    "    \n",
    "print(fall)\n"
   ]
  }
 ],
 "metadata": {
  "kernelspec": {
   "display_name": "Python 3",
   "language": "python",
   "name": "python3"
  },
  "language_info": {
   "codemirror_mode": {
    "name": "ipython",
    "version": 3
   },
   "file_extension": ".py",
   "mimetype": "text/x-python",
   "name": "python",
   "nbconvert_exporter": "python",
   "pygments_lexer": "ipython3",
   "version": "3.10.6 (tags/v3.10.6:9c7b4bd, Aug  1 2022, 21:53:49) [MSC v.1932 64 bit (AMD64)]"
  },
  "orig_nbformat": 4,
  "vscode": {
   "interpreter": {
    "hash": "369f2c481f4da34e4445cda3fffd2e751bd1c4d706f27375911949ba6bb62e1c"
   }
  }
 },
 "nbformat": 4,
 "nbformat_minor": 2
}
