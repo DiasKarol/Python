{
 "cells": [
  {
   "attachments": {},
   "cell_type": "markdown",
   "metadata": {},
   "source": [
    "Exercício 003-2: Faça um temporizador de segundos (contagem regressiva) que passe a atualizar o tempo mais raramente. A contagem com o intervalo entre cada atualização fique dois segundos maior após cada uma delas.\n",
    "Por exemplo, se ele iniciar o temporizador com 50 segundos, então receberá atualizações dizendo que faltam 50, 48, 44, 38, 30, 20 e 8 segundos (note que os intervalos entre as notificações foram 2, 4, 6, 8, 10 e 12 segundos).\n",
    "Desenvolva um programa que exiba em quais segundos o temporizador receberá atualizações, dado que o\n",
    "programa tenha sido inicializado com um tempo igual a N.\n",
    "Entrada:\n",
    "O seu programa deve receber um número inteiro positivo N, que é o tempo inicial do temporizador.\n",
    "Saída:\n",
    "Seu programa deve escrever a saída conforme os exemplos abaixo.\n",
    "Exemplos:\n",
    "\n",
    "Entrada                     Saída\n",
    "10                          Faltam 10 segundos\n",
    "                            Faltam 8 segundos\n",
    "                            Faltam 4 segundos\n",
    "                            Acabou"
   ]
  },
  {
   "cell_type": "code",
   "execution_count": 16,
   "metadata": {},
   "outputs": [
    {
     "name": "stdout",
     "output_type": "stream",
     "text": [
      "Faltam 10 segundos\n",
      "Faltam 8 segundos\n",
      "Faltam 4 segundos\n",
      "Acabou\n"
     ]
    }
   ],
   "source": [
    "import time\n",
    "\n",
    "N = 0\n",
    "\n",
    "while (N <= 0):\n",
    "    while True:\n",
    "        try:\n",
    "            N = int(input('Informe os segundos inicias do temporizador: '))\n",
    "            break\n",
    "        except ValueError:\n",
    "            print(\"Valor digitado deve ser inteiro\")\n",
    "    if (N <= 0):\n",
    "        print ('Quantidade deve ser positiva!')\n",
    "\n",
    "gap = 2\n",
    "\n",
    "for i in range(N, -1, -1):\n",
    "    if(i == N):\n",
    "        print(f'Faltam {i} segundos')\n",
    "        N-=gap\n",
    "        gap+= 2\n",
    "    time.sleep(1)\n",
    "print('Acabou')"
   ]
  }
 ],
 "metadata": {
  "kernelspec": {
   "display_name": "Python 3",
   "language": "python",
   "name": "python3"
  },
  "language_info": {
   "codemirror_mode": {
    "name": "ipython",
    "version": 3
   },
   "file_extension": ".py",
   "mimetype": "text/x-python",
   "name": "python",
   "nbconvert_exporter": "python",
   "pygments_lexer": "ipython3",
   "version": "3.10.6 (tags/v3.10.6:9c7b4bd, Aug  1 2022, 21:53:49) [MSC v.1932 64 bit (AMD64)]"
  },
  "orig_nbformat": 4,
  "vscode": {
   "interpreter": {
    "hash": "369f2c481f4da34e4445cda3fffd2e751bd1c4d706f27375911949ba6bb62e1c"
   }
  }
 },
 "nbformat": 4,
 "nbformat_minor": 2
}
