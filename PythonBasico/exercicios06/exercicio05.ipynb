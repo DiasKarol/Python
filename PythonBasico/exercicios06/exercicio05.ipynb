{
 "cells": [
  {
   "attachments": {},
   "cell_type": "markdown",
   "metadata": {},
   "source": [
    "Exercício 5: Dado um vetor V de n elementos (suponha que n é ímpar e positivo), o semiparticionado\n",
    "de V é obtido pelas seguintes operações:\n",
    "- se o primeiro elemento de V for maior do que o último elemento V, trocar a posição\n",
    "desses dois elementos;\n",
    "- se o segundo elemento de V for maior do que penúltimo elemento V, trocar a posição\n",
    "desses dois elementos;\n",
    "- se o terceiro elemento de V for maior do que o antepenúltimo elemento de V, trocar a\n",
    "posição desses dois elementos ;\n",
    "- …\n",
    "- assim por diante até que as posições dos elementos vizinhos do elemento do meio sejam\n",
    "trocadas, caso necessário.\n",
    "Aqui uma representação esquemática das possíveis operações de troca que são realizadas\n",
    "para se obter o semiparticionado de um vetor:\n",
    "Se V contém apenas um elemento, o semiparticionado de V é o próprio V. Faça um\n",
    "programa que:\n",
    "- leia um número inteiro n estritamente positivo ímpar (não precisa fazer validação, isto é,\n",
    "suponha que n é fornecido corretamente);\n",
    "- cria um vetor V e lê n valores inteiros do usuário e armazena-os em V;\n",
    "- transforme V no semiparticionado de V;\n",
    "- imprima o semiparticionado de V.\n",
    "Entrada: A entrada é um número inteiro n estritamente positivo ímpar , seguidos dos elementos do vetor\n",
    "V.\n",
    "Saída: Seu programa deve imprimir na tela o particionado do vetor V.\n",
    "Exemplos:\n",
    "Entrada     Saída\n",
    "1           [5]\n",
    "5"
   ]
  },
  {
   "cell_type": "code",
   "execution_count": 1,
   "metadata": {},
   "outputs": [
    {
     "name": "stdout",
     "output_type": "stream",
     "text": [
      "[1, 2, 3, 4, 5]\n"
     ]
    }
   ],
   "source": [
    "n = int(input())\n",
    "V = [int(input()) for i in range(n)] #pedindo valores de acordo com o valor dado acima\n",
    "\n",
    "for i in range(0, (len(V)-1)//2 + 1): #percorrendo a metade do vetor, começando em 0\n",
    "    if V[i] > V[len(V)-1-i]: #se o indice do vetor V for maior que o tamanho -1\n",
    "        V[i], V[len(V)-1-i] = V[len(V)-1-i], V[i] #troca as posições \n",
    "\n",
    "print(V)"
   ]
  }
 ],
 "metadata": {
  "kernelspec": {
   "display_name": "Python 3",
   "language": "python",
   "name": "python3"
  },
  "language_info": {
   "codemirror_mode": {
    "name": "ipython",
    "version": 3
   },
   "file_extension": ".py",
   "mimetype": "text/x-python",
   "name": "python",
   "nbconvert_exporter": "python",
   "pygments_lexer": "ipython3",
   "version": "3.10.6"
  },
  "orig_nbformat": 4,
  "vscode": {
   "interpreter": {
    "hash": "369f2c481f4da34e4445cda3fffd2e751bd1c4d706f27375911949ba6bb62e1c"
   }
  }
 },
 "nbformat": 4,
 "nbformat_minor": 2
}
