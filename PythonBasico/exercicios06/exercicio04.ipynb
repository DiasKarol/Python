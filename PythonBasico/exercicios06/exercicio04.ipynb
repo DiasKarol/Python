{
 "cells": [
  {
   "attachments": {},
   "cell_type": "markdown",
   "metadata": {},
   "source": [
    "Exercício 4: Faça um programa que faz o seguinte:\n",
    "a. lê um número inteiro par N fornecido pelo usuário. O programa deve continuar\n",
    "solicitando o número N enquanto o valor entrado não for par;\n",
    "b. preenche uma lista de tamanho N com números inteiros fornecidos pelo usuário;\n",
    "c. faz a “dobra ao meio” do vetor. Ou seja, você irá criar um vetor com a metade do\n",
    "número de elementos do vetor original, cujas entradas são dadas pela soma dos valores\n",
    "que se encontram quando o vetor é “dobrado ao meio”. Como no exemplo abaixo:\n",
    "Se o vetor original é dado por v = [4, 5, 8, 9, 3, 7, 6, 1] o vetor resultante da dobra ao meio\n",
    "será v’ = [5, 11, 15, 12] (em que, 5=4+1, 11=5+6, 15=8+7 e 12=9+3).\n",
    "Exemplos:\n",
    "Entrada         Saída\n",
    "3331141234      [5, 5]"
   ]
  },
  {
   "cell_type": "code",
   "execution_count": 1,
   "metadata": {},
   "outputs": [
    {
     "name": "stdout",
     "output_type": "stream",
     "text": [
      "[5, 5]\n"
     ]
    }
   ],
   "source": [
    "while True:\n",
    "    N = int(input(\"Insira um número par: \"))\n",
    "    if N % 2 == 0:\n",
    "        break\n",
    "    \n",
    "inputNumber = []\n",
    "for i in range(N):\n",
    "    inputNumber.append(int(input('insira um número inteiro: ')))\n",
    "\n",
    "double = []\n",
    "for i in range(int(N/2)):\n",
    "    double.append(inputNumber[i] + inputNumber[-i-1])\n",
    "\n",
    "print(double)"
   ]
  }
 ],
 "metadata": {
  "kernelspec": {
   "display_name": "Python 3",
   "language": "python",
   "name": "python3"
  },
  "language_info": {
   "codemirror_mode": {
    "name": "ipython",
    "version": 3
   },
   "file_extension": ".py",
   "mimetype": "text/x-python",
   "name": "python",
   "nbconvert_exporter": "python",
   "pygments_lexer": "ipython3",
   "version": "3.10.6 (tags/v3.10.6:9c7b4bd, Aug  1 2022, 21:53:49) [MSC v.1932 64 bit (AMD64)]"
  },
  "orig_nbformat": 4,
  "vscode": {
   "interpreter": {
    "hash": "369f2c481f4da34e4445cda3fffd2e751bd1c4d706f27375911949ba6bb62e1c"
   }
  }
 },
 "nbformat": 4,
 "nbformat_minor": 2
}
