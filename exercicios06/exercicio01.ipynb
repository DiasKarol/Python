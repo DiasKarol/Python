{
 "cells": [
  {
   "attachments": {},
   "cell_type": "markdown",
   "metadata": {},
   "source": [
    "Exercício 1: Desenvolva um programa com as seguintes funcionalidades:\n",
    "a. ler e preencher um vetor com N valores inteiros informados pelo usuário. A variável N\n",
    "deve ser lida inicialmente (portanto por usar um comando for para ler os elementos do\n",
    "vetor).\n",
    "b. No vetor lido verificar se há vizinhos consecutivos iguais. Imprimir os índices das\n",
    "posições de todos os vizinhos repetidos (veja os exemplos de entrada e saída).\n",
    "Entrada: um número inteiro N positivo seguido de N valores inteiros.\n",
    "Saída: Índices do vetor com vizinhos contendo o mesmo valor.\n",
    "Exemplos:\n",
    "Entrada     Saída\n",
    "3           Pos 0 e 1\n",
    "9           Pos 1 e 2\n",
    "9\n",
    "9"
   ]
  },
  {
   "cell_type": "code",
   "execution_count": 14,
   "metadata": {},
   "outputs": [
    {
     "name": "stdout",
     "output_type": "stream",
     "text": [
      "Pos 3 e 4\n",
      "Pos 5 e 6\n"
     ]
    }
   ],
   "source": [
    "n = int(input('Quantos números deseja informar? '))\n",
    "\n",
    "numberList = []\n",
    "\n",
    "for i in range(0, n):\n",
    "    N = int(input(f'Informe um número: '))\n",
    "    numberList.append(N)\n",
    "\n",
    "for i in range(len(numberList)-1):\n",
    "    if numberList[i] == numberList[i+1]:\n",
    "        print(f'Pos {i} e {i+1}')"
   ]
  }
 ],
 "metadata": {
  "kernelspec": {
   "display_name": "Python 3",
   "language": "python",
   "name": "python3"
  },
  "language_info": {
   "codemirror_mode": {
    "name": "ipython",
    "version": 3
   },
   "file_extension": ".py",
   "mimetype": "text/x-python",
   "name": "python",
   "nbconvert_exporter": "python",
   "pygments_lexer": "ipython3",
   "version": "3.10.6 (tags/v3.10.6:9c7b4bd, Aug  1 2022, 21:53:49) [MSC v.1932 64 bit (AMD64)]"
  },
  "orig_nbformat": 4,
  "vscode": {
   "interpreter": {
    "hash": "369f2c481f4da34e4445cda3fffd2e751bd1c4d706f27375911949ba6bb62e1c"
   }
  }
 },
 "nbformat": 4,
 "nbformat_minor": 2
}
