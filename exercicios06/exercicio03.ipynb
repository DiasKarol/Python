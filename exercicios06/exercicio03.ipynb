{
 "cells": [
  {
   "attachments": {},
   "cell_type": "markdown",
   "metadata": {},
   "source": [
    "Exercício 3: Escreva um programa que leia dois vetores com N inteiros cada. Em seguida, verifique\n",
    "quais elementos do segundo vetor são iguais a algum elemento do primeiro vetor. Se não\n",
    "houver elementos comuns, o programa deve informar isso.\n",
    "Dica: Para ler um vetor de inteiros separados por espaço de uma linha fornecida, use o\n",
    "comando: V = [int(i) for i in input().split(\" \") if i]\n",
    "Entrada: Cada caso de teste é composto por duas linhas, cada uma contendo uma cadeia de N inteiros.\n",
    "Os valores devem ser separados por um espaço em branco. Não é necessário que as duas cadeias tenham\n",
    "o mesmo número de elementos. (dica: função len(V) resulta na quantidade de elementos de um vetor).\n",
    "Saída: Na saída devem ser impressos todos os elementos comuns entre os dois vetores, sendo cada\n",
    "elemento em uma linha diferente. Entretanto, se houver algum elemento que apareça mais de uma vez no\n",
    "segundo vetor, o mesmo deve ser impresso apenas uma vez. Se um elemento aparecer mais de uma vez\n",
    "no primeiro vetor, o mesmo pode ser impresso mais de uma vez. Caso não haja nenhum elemento em\n",
    "comum, a seguinte mensagem deverá ser exibida: NENHUM ELEMENTO EM COMUM.\n",
    "Exemplos:\n",
    "Entrada         Saída\n",
    "1 2 3 4 5       2\n",
    "2 7 6 10 3      3"
   ]
  },
  {
   "cell_type": "code",
   "execution_count": 8,
   "metadata": {},
   "outputs": [
    {
     "name": "stdout",
     "output_type": "stream",
     "text": [
      "NENHUM ELEMENTO EM COMUM\n"
     ]
    }
   ],
   "source": [
    "#Lendo os vetores de inteiros separados por espaço com o comando fornecido no exercicio proposto\n",
    "#Comando: V = [int(i) for i in input().split(\" \") if i]\n",
    "V1 = [int(i) for i in input('informe uma seguencia de números, seprando-os por espaço: ').split(\" \") if i]\n",
    "V2 = [int(i) for i in input('informe uma seguencia de números, seprando-os por espaço: ').split(\" \") if i]\n",
    "\n",
    "commonElements = []\n",
    "\n",
    "for element in V2:\n",
    "    if element in V1:\n",
    "        if element not in commonElements: # se o elemento não foi add ainda, a linha de baixo adiciona\n",
    "            commonElements.append(element)\n",
    "\n",
    "if len(commonElements) == 0:\n",
    "    print('NENHUM ELEMENTO EM COMUM')\n",
    "else:\n",
    "    for element in commonElements:\n",
    "        print(element)"
   ]
  }
 ],
 "metadata": {
  "kernelspec": {
   "display_name": "Python 3",
   "language": "python",
   "name": "python3"
  },
  "language_info": {
   "codemirror_mode": {
    "name": "ipython",
    "version": 3
   },
   "file_extension": ".py",
   "mimetype": "text/x-python",
   "name": "python",
   "nbconvert_exporter": "python",
   "pygments_lexer": "ipython3",
   "version": "3.10.6 (tags/v3.10.6:9c7b4bd, Aug  1 2022, 21:53:49) [MSC v.1932 64 bit (AMD64)]"
  },
  "orig_nbformat": 4,
  "vscode": {
   "interpreter": {
    "hash": "369f2c481f4da34e4445cda3fffd2e751bd1c4d706f27375911949ba6bb62e1c"
   }
  }
 },
 "nbformat": 4,
 "nbformat_minor": 2
}
