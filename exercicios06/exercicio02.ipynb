{
 "cells": [
  {
   "attachments": {},
   "cell_type": "markdown",
   "metadata": {},
   "source": [
    "Exercício 2: Escreva um programa que receba uma sequência de palavras e as imprima em ordem\n",
    "inversa.\n",
    "Entrada: A primeira linha da entrada consiste de um número inteiro N representando o número de\n",
    "palavras que serão fornecidas. As próximas N linhas consistem de uma única palavra por linha.\n",
    "Saída: A saída do seu programa deve consistir de N linhas, onde cada linha consiste de uma única\n",
    "palavra.\n",
    "Exemplos:\n",
    "Entrada         Saída\n",
    "5\n",
    "ABBA            LadyBaby\n",
    "ACDC            Iron\n",
    "Metallica       Metallica\n",
    "Iron            ACDC\n",
    "LadyBaby        ABBA"
   ]
  },
  {
   "cell_type": "code",
   "execution_count": 9,
   "metadata": {},
   "outputs": [
    {
     "name": "stdout",
     "output_type": "stream",
     "text": [
      "bilingue\n",
      "voce\n",
      "wizard\n"
     ]
    }
   ],
   "source": [
    "n = int(input('Quantas palavras deseja informar? '))\n",
    "\n",
    "wordList = []\n",
    "\n",
    "for i in range(0, n):\n",
    "    N = input(f'Informe uma palavra: ')\n",
    "    wordList.append(N)\n",
    "\n",
    "wordList.reverse()\n",
    "\n",
    "for words in wordList:\n",
    "    print(words)"
   ]
  }
 ],
 "metadata": {
  "kernelspec": {
   "display_name": "Python 3",
   "language": "python",
   "name": "python3"
  },
  "language_info": {
   "codemirror_mode": {
    "name": "ipython",
    "version": 3
   },
   "file_extension": ".py",
   "mimetype": "text/x-python",
   "name": "python",
   "nbconvert_exporter": "python",
   "pygments_lexer": "ipython3",
   "version": "3.10.6 (tags/v3.10.6:9c7b4bd, Aug  1 2022, 21:53:49) [MSC v.1932 64 bit (AMD64)]"
  },
  "orig_nbformat": 4,
  "vscode": {
   "interpreter": {
    "hash": "369f2c481f4da34e4445cda3fffd2e751bd1c4d706f27375911949ba6bb62e1c"
   }
  }
 },
 "nbformat": 4,
 "nbformat_minor": 2
}
