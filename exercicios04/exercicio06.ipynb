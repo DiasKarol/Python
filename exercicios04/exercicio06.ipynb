{
 "cells": [
  {
   "attachments": {},
   "cell_type": "markdown",
   "metadata": {},
   "source": [
    "Exercício 005-1: (hard level – deixa por último este como desafio)\n",
    "O jogo Street Fighter:\n",
    "Crie um programa que simule uma luta entre Ryu e Ken e determine quem ganhou a luta.\n",
    "Entrada\n",
    "A entrada consiste de uma sequência de inteiros, um em cada linha, representando os valores dos golpes aplicados (valores positivos) e recebidos (valores negativos) por Ryu. A luta termina quando o inteiro lido for 0. Um round só termina quando um dos jogadores fica com 0 ou menos pontos de vida. Você pode assumir que em cada round pelo menos um golpe será aplicado.\n",
    "Saída\n",
    "A saída deverá conter apenas uma linha, contendo somente “Ryu venceu”, “Ken venceu” ou “Empate”, de acordo com o resultado geral da luta.\n",
    "Exemplo comentado\n",
    "Suponha que a sequência de entrada seja composta pelos números: 40, 5, -32, 9, -45, 48, -27, -64, 75, 6, 4, -7, 3, -39, 0.\n",
    "Então temos dois rounds. O primeiro round tem 6 golpes e Ryu ganha, pois 40 + 5 + 9 + 48 = 102 ≥ 100. O segundo round tem 8 golpes e Ken ganha, pois 27 + 64 + 7 + 39 = 137 ≥ 100. Logo, o resultado da luta é “Empate”."
   ]
  },
  {
   "cell_type": "code",
   "execution_count": 3,
   "metadata": {},
   "outputs": [
    {
     "name": "stdout",
     "output_type": "stream",
     "text": [
      "Empate\n"
     ]
    }
   ],
   "source": [
    "Ryu = 100\n",
    "Ken = 100\n",
    "\n",
    "while Ryu > 0 and Ken > 0:\n",
    "    fight = int(input('informe um valor: '))\n",
    "    if fight == 0:\n",
    "        break\n",
    "    elif fight > 0:\n",
    "        Ken -= fight\n",
    "    else:\n",
    "        Ryu += fight\n",
    "\n",
    "if Ryu > Ken:\n",
    "    print('Ryu venceu')\n",
    "elif Ken > Ryu:\n",
    "    print('Ken venceu')\n",
    "else:\n",
    "    print('Empate')"
   ]
  }
 ],
 "metadata": {
  "kernelspec": {
   "display_name": "Python 3",
   "language": "python",
   "name": "python3"
  },
  "language_info": {
   "codemirror_mode": {
    "name": "ipython",
    "version": 3
   },
   "file_extension": ".py",
   "mimetype": "text/x-python",
   "name": "python",
   "nbconvert_exporter": "python",
   "pygments_lexer": "ipython3",
   "version": "3.10.6 (tags/v3.10.6:9c7b4bd, Aug  1 2022, 21:53:49) [MSC v.1932 64 bit (AMD64)]"
  },
  "orig_nbformat": 4,
  "vscode": {
   "interpreter": {
    "hash": "369f2c481f4da34e4445cda3fffd2e751bd1c4d706f27375911949ba6bb62e1c"
   }
  }
 },
 "nbformat": 4,
 "nbformat_minor": 2
}
