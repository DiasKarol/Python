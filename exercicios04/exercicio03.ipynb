{
 "cells": [
  {
   "attachments": {},
   "cell_type": "markdown",
   "metadata": {},
   "source": [
    "Exercício 005-4:\n",
    "Implemente um programa denominado intercalador, que recebe duas strings e deve intercalá-las, alternando as letras de cada string, começando com a primeira letra da primeira string, seguido pela primeira letra da segunda string, em seguida pela segunda letra da primeira string, e assim sucessivamente. As letras restantes da cadeia mais longa devem ser adicionadas ao fim da string resultante e retornada.\n",
    "Observação: Seu programa não pode usar funções pré-definidas além de print(), input(), input().split(\" \") e len().\n",
    "Dica: Utilize a função input().split(\" \") para ler múltiplos elementos de uma string separadas por espaço e salvar em um vetor. No caso específico desse exercício, a ideia é obter um vetor de 2 strings da seguinte forma:\n",
    "palavras = input().split(\" \") # lendo um vetor de múltiplas strings (palavras) separadas por espaço\n",
    "S1 = palavras[0] # obtendo a primeira string\n",
    "S2 = palavras[1] # obtendo a segunda string\n",
    "Entrada:\n",
    "Uma linha contendo duas cadeias de caracteres separadas por um espaço em branco.\n",
    "Saída:\n",
    "Uma cadeia de caracteres resultante da intercalação das duas cadeias fornecidas como entrada.\n",
    "Exemplos:\n",
    "Entrada\t    Saída\n",
    "P2 I020\t    PI2020\n",
    "\n"
   ]
  },
  {
   "cell_type": "code",
   "execution_count": 3,
   "metadata": {},
   "outputs": [
    {
     "name": "stdout",
     "output_type": "stream",
     "text": [
      "PI2020\n"
     ]
    }
   ],
   "source": [
    "words = input('Insira duas palavras para mesclar (separadas por espaço): ').split(' ')\n",
    "\n",
    "word1 = words[0]\n",
    "word2 = words[1]\n",
    "rWord = ''\n",
    "\n",
    "for i in range(max(len(word1), len(word2))):\n",
    "    if i < len(word1):\n",
    "        rWord += word1[i]\n",
    "    if i < len(word2):\n",
    "        rWord += word2[i]\n",
    "\n",
    "print(rWord)"
   ]
  }
 ],
 "metadata": {
  "kernelspec": {
   "display_name": "Python 3",
   "language": "python",
   "name": "python3"
  },
  "language_info": {
   "codemirror_mode": {
    "name": "ipython",
    "version": 3
   },
   "file_extension": ".py",
   "mimetype": "text/x-python",
   "name": "python",
   "nbconvert_exporter": "python",
   "pygments_lexer": "ipython3",
   "version": "3.10.6 (tags/v3.10.6:9c7b4bd, Aug  1 2022, 21:53:49) [MSC v.1932 64 bit (AMD64)]"
  },
  "orig_nbformat": 4,
  "vscode": {
   "interpreter": {
    "hash": "369f2c481f4da34e4445cda3fffd2e751bd1c4d706f27375911949ba6bb62e1c"
   }
  }
 },
 "nbformat": 4,
 "nbformat_minor": 2
}
