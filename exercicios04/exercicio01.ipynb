{
 "cells": [
  {
   "attachments": {},
   "cell_type": "markdown",
   "metadata": {},
   "source": [
    "Exercício 005-2:\n",
    "Faça um programa que lê um caractere C (uma string de tamanho 1) e uma string S. O programa deve imprimir a string S com todos os caracteres C (maiúsculos e minúsculos) removidos.\n",
    "(Dica: Você pode usar o comando str.lower() para converter uma string str para letras minúsculas), (dica 2: não vale usar a função replace).\n",
    "Exemplos:\n",
    "Entrada                                     Saída\n",
    "o                                           lá tds!\n",
    "Olá todos!\t\t"
   ]
  },
  {
   "cell_type": "code",
   "execution_count": 2,
   "metadata": {},
   "outputs": [
    {
     "name": "stdout",
     "output_type": "stream",
     "text": [
      "heo word\n"
     ]
    }
   ],
   "source": [
    "c = input('Informe o caracter a ser retirado: ')\n",
    "s = input('Introduza uma frase/palavra: ')\n",
    "\n",
    "c = c.lower()\n",
    "oldS = s.lower()\n",
    "\n",
    "newS = ''\n",
    "\n",
    "for i in list(oldS):\n",
    "    if i != c:\n",
    "        newS += i\n",
    "        \n",
    "print(newS)"
   ]
  }
 ],
 "metadata": {
  "kernelspec": {
   "display_name": "Python 3",
   "language": "python",
   "name": "python3"
  },
  "language_info": {
   "codemirror_mode": {
    "name": "ipython",
    "version": 3
   },
   "file_extension": ".py",
   "mimetype": "text/x-python",
   "name": "python",
   "nbconvert_exporter": "python",
   "pygments_lexer": "ipython3",
   "version": "3.10.6 (tags/v3.10.6:9c7b4bd, Aug  1 2022, 21:53:49) [MSC v.1932 64 bit (AMD64)]"
  },
  "orig_nbformat": 4,
  "vscode": {
   "interpreter": {
    "hash": "369f2c481f4da34e4445cda3fffd2e751bd1c4d706f27375911949ba6bb62e1c"
   }
  }
 },
 "nbformat": 4,
 "nbformat_minor": 2
}
