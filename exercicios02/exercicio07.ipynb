{
 "cells": [
  {
   "attachments": {},
   "cell_type": "markdown",
   "metadata": {},
   "source": [
    "Exercício 002-7: O Hipermercado Tabajara está com uma promoção de carnes que é imperdível. Confira: \n",
    "Até 5 Kg Acima de 5 Kg \n",
    "File Duplo R$ 4,90 por Kg R$ 5,80 por Kg \n",
    "Alcatra R$ 5,90 por Kg R$ 6,80 por Kg \n",
    "Picanha R$ 6,90 por Kg R$ 7,80 por Kg \n",
    "Para atender a todos os clientes, cada cliente poderá levar apenas um dos tipos de carne da promoção, porém não há limites para a quantidade de carne por cliente. \n",
    "Se a compra for feita no cartão Tabajara o cliente receberá ainda um desconto de 5% sobre o total da compra. \n",
    "Escreva um programa que peça o tipo e a quantidade de carne comprada pelo usuário e gere um cupom fiscal, contendo as informações da compra: tipo e quantidade de carne, preço total, tipo de pagamento, valor do desconto e valor a pagar. "
   ]
  },
  {
   "cell_type": "code",
   "execution_count": 1,
   "metadata": {},
   "outputs": [
    {
     "name": "stdout",
     "output_type": "stream",
     "text": [
      "CUPOM FISCAL HIPERMERCADO TABAJARA\n",
      "\n",
      "Produto: picanha\n",
      "Quantidade: Kg2.00\n",
      "Valor total do produto: R$ 15.6\n",
      "Tipo de pagamento: dinheiro\n",
      "Descontos: R$0.00\n",
      "Valor pago: R$15.60\n"
     ]
    }
   ],
   "source": [
    "#carnes\n",
    "fileDuploPromo = 4.90\n",
    "fileDuplo = 5.80\n",
    "alcatraPromo = 5.90\n",
    "alcatra = 6.80\n",
    "picanhaPromo = 6.90\n",
    "picanha = 7.80\n",
    "#desconto para compra no cartão Tabajara\n",
    "discount = 0.05\n",
    "\n",
    "#Verificando o produto e a quantidade\n",
    "product = input('Informe o produto (File Duplo/Alcatra/Picanha): ')\n",
    "productKg = float(input('Informe a quantidade do produto (em KG): '))\n",
    "\n",
    "if product.lower() == 'file duplo':\n",
    "    if productKg <= 5:\n",
    "        totalValue = fileDuplo * productKg\n",
    "    else:\n",
    "        totalValue = fileDuploPromo * productKg\n",
    "elif product.lower() == 'alcatra':\n",
    "    if productKg <= 5:\n",
    "        totalValue = alcatra * productKg\n",
    "    else:\n",
    "        totalValue = alcatraPromo * productKg\n",
    "elif product.lower() == 'picanha':\n",
    "    if productKg <= 5:\n",
    "        totalValue = picanha * productKg\n",
    "    else:\n",
    "        totalValue = picanhaPromo * productKg\n",
    "else:\n",
    "    print('Escolha entre as opções de produto (File Duplo/Alcatra/Picanha)')\n",
    "\n",
    "#verificando a forma de pagamento:\n",
    "pay = input('Qual a forma de pagamento? (dinheiro/cartão Tabajara): ')\n",
    "\n",
    "if pay.lower() == 'cartão tabajara' or pay.lower() == 'cartao tabajara':\n",
    "    finalDiscount = totalValue * discount\n",
    "    finalPrice = totalValue - finalDiscount\n",
    "else:\n",
    "    finalDiscount = 0\n",
    "    finalPrice = totalValue\n",
    "\n",
    "#cupom\n",
    "#tipo e quantidade de carne, preço total, tipo de pagamento, valor do desconto e valor a pagar\n",
    "print('CUPOM FISCAL HIPERMERCADO TABAJARA\\n')\n",
    "print(f'Produto: {product}')\n",
    "print(f'Quantidade: Kg{productKg:.2f}')\n",
    "print(f'Valor total do produto: R$ {totalValue:.1f}')\n",
    "print(f'Tipo de pagamento: {pay}')\n",
    "print(f'Descontos: R${finalDiscount:.2f}')\n",
    "print(f'Valor pago: R${finalPrice:.2f}')"
   ]
  }
 ],
 "metadata": {
  "kernelspec": {
   "display_name": "Python 3",
   "language": "python",
   "name": "python3"
  },
  "language_info": {
   "codemirror_mode": {
    "name": "ipython",
    "version": 3
   },
   "file_extension": ".py",
   "mimetype": "text/x-python",
   "name": "python",
   "nbconvert_exporter": "python",
   "pygments_lexer": "ipython3",
   "version": "3.10.6 (tags/v3.10.6:9c7b4bd, Aug  1 2022, 21:53:49) [MSC v.1932 64 bit (AMD64)]"
  },
  "orig_nbformat": 4,
  "vscode": {
   "interpreter": {
    "hash": "369f2c481f4da34e4445cda3fffd2e751bd1c4d706f27375911949ba6bb62e1c"
   }
  }
 },
 "nbformat": 4,
 "nbformat_minor": 2
}
