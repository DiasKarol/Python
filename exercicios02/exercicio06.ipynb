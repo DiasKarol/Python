{
 "cells": [
  {
   "attachments": {},
   "cell_type": "markdown",
   "metadata": {},
   "source": [
    "Exercício 002-6: Faça um programa para o cálculo de uma folha de pagamento, sabendo que os descontos são do Imposto de Renda, que depende do salário bruto (conforme tabela abaixo) e \n",
    "3% para o Sindicato e \n",
    "que o FGTS corresponde a 11% do Salário Bruto, mas não é descontado (é a empresa que deposita). \n",
    "O Salário Líquido corresponde ao Salário Bruto menos os descontos. \n",
    "O programa deverá pedir ao usuário o valor da sua hora e a quantidade de horas trabalhadas no mês. \n",
    "Desconto do IR: \n",
    "Salário Bruto até 900 (inclusive) - isento \n",
    "Salário Bruto até 1500 (inclusive) - desconto de 5% \n",
    "Salário Bruto até 2500 (inclusive) - desconto de 10% \n",
    "Salário Bruto acima de 2500 - desconto de 20%   Imprima na tela as informações, dispostas conforme o exemplo abaixo. \n",
    "No exemplo o valor da hora é 5 e a quantidade de hora é 220.\n",
    "Salário Bruto: (5 * 220)  : R$ 1100,00 (-) IR (5%)  : R$ 55,00 (-) INSS ( 10%)  : R$ 110,00 FGTS (11%)  : R$ 121,00 Total de descontos  : R$ 165,00 Salário Liquido  : R$ 935,00\n"
   ]
  },
  {
   "cell_type": "code",
   "execution_count": 14,
   "metadata": {},
   "outputs": [
    {
     "name": "stdout",
     "output_type": "stream",
     "text": [
      "Salário Bruto: (500.00 * 8.00)  : R$4000.00 (-) IR (20%)  : R$800.00 (-) INSS ( 10%)  : R$ 400.00 (=) Sindicato (3%) : R$120.00 FGTS (11%)  : R$ 440.00  Total de descontos  : R$1320.00 Salário Liquido  : R$2680.00\n"
     ]
    }
   ],
   "source": [
    "hourlyRate = float(input('informe o valor de sua hora de trabalho: '))\n",
    "workedHours = float(input('informe a quantidade horas trabalhadas: '))\n",
    "\n",
    "salary = workedHours * hourlyRate\n",
    "syndicate = salary * 0.03\n",
    "fgts = salary * 0.11\n",
    "inss = salary * 0.10\n",
    "\n",
    "if salary <= 900:\n",
    "    ir = 'isento'\n",
    "    descIR = 0\n",
    "    totalDisc = syndicate + inss\n",
    "    liquid = salary - totalDisc\n",
    "    print(f'Salário Bruto: ({workedHours:.2f} * {hourlyRate:.2f})  : R${salary:.2f} (-) IR ({ir})  : R${descIR:.2f} (-) INSS ( 10%)  : R$ {inss:.2f} (=) Sindicato (3%) : R${syndicate:.2f} FGTS (11%)  : R$ {fgts:.2f}  Total de descontos  : R${totalDisc:.2f} Salário Liquido  : R${liquid:.2f}')\n",
    "elif salary <= 1500:\n",
    "    ir = '5%'\n",
    "    descIR = salary * 0.05\n",
    "    totalDisc = syndicate + inss + descIR\n",
    "    liquid = salary - totalDisc\n",
    "    print(f'Salário Bruto: ({workedHours:.2f} * {hourlyRate:.2f})  : R${salary:.2f} (-) IR ({ir})  : R${descIR:.2f} (-) INSS ( 10%)  : R$ {inss:.2f} (=) Sindicato (3%) : R${syndicate:.2f} FGTS (11%)  : R$ {fgts:.2f}  Total de descontos  : R${totalDisc:.2f} Salário Liquido  : R${liquid:.2f}')\n",
    "elif salary <= 2500:\n",
    "    ir = '10%'\n",
    "    descIR = salary * 0.10\n",
    "    totalDisc = syndicate + inss + descIR\n",
    "    liquid = salary - totalDisc\n",
    "    print(f'Salário Bruto: ({workedHours:.2f} * {hourlyRate:.2f})  : R${salary:.2f} (-) IR ({ir})  : R${descIR:.2f} (-) INSS ( 10%)  : R$ {inss:.2f} (=) Sindicato (3%) : R${syndicate:.2f} FGTS (11%)  : R$ {fgts:.2f}  Total de descontos  : R${totalDisc:.2f} Salário Liquido  : R${liquid:.2f}')\n",
    "else:\n",
    "    ir = '20%'\n",
    "    descIR = salary * 0.20\n",
    "    totalDisc = syndicate + inss + descIR\n",
    "    liquid = salary - totalDisc\n",
    "    print(f'Salário Bruto: ({workedHours:.2f} * {hourlyRate:.2f})  : R${salary:.2f} (-) IR ({ir})  : R${descIR:.2f} (-) INSS ( 10%)  : R$ {inss:.2f} (=) Sindicato (3%) : R${syndicate:.2f} FGTS (11%)  : R$ {fgts:.2f}  Total de descontos  : R${totalDisc:.2f} Salário Liquido  : R${liquid:.2f}')"
   ]
  }
 ],
 "metadata": {
  "kernelspec": {
   "display_name": "Python 3",
   "language": "python",
   "name": "python3"
  },
  "language_info": {
   "codemirror_mode": {
    "name": "ipython",
    "version": 3
   },
   "file_extension": ".py",
   "mimetype": "text/x-python",
   "name": "python",
   "nbconvert_exporter": "python",
   "pygments_lexer": "ipython3",
   "version": "3.10.6 (tags/v3.10.6:9c7b4bd, Aug  1 2022, 21:53:49) [MSC v.1932 64 bit (AMD64)]"
  },
  "orig_nbformat": 4,
  "vscode": {
   "interpreter": {
    "hash": "369f2c481f4da34e4445cda3fffd2e751bd1c4d706f27375911949ba6bb62e1c"
   }
  }
 },
 "nbformat": 4,
 "nbformat_minor": 2
}
