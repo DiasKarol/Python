{
 "cells": [
  {
   "attachments": {},
   "cell_type": "markdown",
   "metadata": {},
   "source": [
    "Exercício 002- 4: Faça um Programa que leia três números e mostre-os em ordem decrescente. "
   ]
  },
  {
   "cell_type": "code",
   "execution_count": 6,
   "metadata": {},
   "outputs": [
    {
     "name": "stdout",
     "output_type": "stream",
     "text": [
      "3 2 1\n"
     ]
    }
   ],
   "source": [
    "a = int(input('informe o 1º número:'))\n",
    "b = int(input('informe o 2º número:'))\n",
    "c = int(input('informe o 3º número:'))\n",
    "\n",
    "if a>b and a>c:\n",
    "    if b>c:\n",
    "        print(f\"{a} {b} {c}\")\n",
    "    else:\n",
    "        print(f\"{a} {c} {b}\")\n",
    "elif b>a and b>c:\n",
    "    if a>c:\n",
    "        print(f\"{b} {a} {c}\")\n",
    "    else:\n",
    "        print(f\"{b} {c} {a}\")\n",
    "else:\n",
    "    if a>b:\n",
    "        print(f\"{c} {a} {b}\")\n",
    "    else:\n",
    "        print(f\"{c} {b} {a}\")"
   ]
  }
 ],
 "metadata": {
  "kernelspec": {
   "display_name": "Python 3",
   "language": "python",
   "name": "python3"
  },
  "language_info": {
   "codemirror_mode": {
    "name": "ipython",
    "version": 3
   },
   "file_extension": ".py",
   "mimetype": "text/x-python",
   "name": "python",
   "nbconvert_exporter": "python",
   "pygments_lexer": "ipython3",
   "version": "3.10.6 (tags/v3.10.6:9c7b4bd, Aug  1 2022, 21:53:49) [MSC v.1932 64 bit (AMD64)]"
  },
  "orig_nbformat": 4,
  "vscode": {
   "interpreter": {
    "hash": "369f2c481f4da34e4445cda3fffd2e751bd1c4d706f27375911949ba6bb62e1c"
   }
  }
 },
 "nbformat": 4,
 "nbformat_minor": 2
}
