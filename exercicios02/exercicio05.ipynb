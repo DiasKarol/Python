{
 "cells": [
  {
   "attachments": {},
   "cell_type": "markdown",
   "metadata": {},
   "source": [
    "Exercício 002-5: As Organizações Tabajara resolveram dar um aumento de salário aos seus colaboradores. Eles contrataram você para desenvolver o programa que calculará os reajustes. \n",
    "Faça um programa que recebe o salário de um colaborador e o reajuste segundo o seguinte critério, baseado no salário atual: \n",
    "salários até R$ 280,00 (incluindo) : aumento de 20% \n",
    "salários entre R$ 280,00 e R$ 700,00 : aumento de 15% \n",
    "salários entre R$ 700,00 e R$ 1500,00 : aumento de 10% \n",
    "salários de R$ 1500,00 em diante : aumento de 5% \n",
    "Após o aumento ser realizado, informe na tela: \n",
    "o salário antes do reajuste; \n",
    "o percentual de aumento aplicado; \n",
    "o valor do aumento; \n",
    "o novo salário, após o aumento. "
   ]
  },
  {
   "cell_type": "code",
   "execution_count": 7,
   "metadata": {},
   "outputs": [
    {
     "name": "stdout",
     "output_type": "stream",
     "text": [
      "Salário antes do reajusto: 20000.00\n",
      "O Percentual de aumento aplicado foi de: 5%\n",
      "O salario aumentou 1000.00\n",
      "Salário com aumento: 21000.00\n"
     ]
    }
   ],
   "source": [
    "initialSalary = float(input('informe o salário do colaborador: '))\n",
    "\n",
    "if initialSalary <= 280.00:\n",
    "    newSalary = initialSalary * 1.20\n",
    "    contrast = newSalary - initialSalary\n",
    "    print(f'Salário antes do reajusto: {initialSalary:.2f}')\n",
    "    print(f'O Percentual de aumento aplicado foi de: 20%')\n",
    "    print(f'O salario aumentou {contrast:.2f}')\n",
    "    print(f'Salário com aumento: {newSalary:.2f}')\n",
    "elif initialSalary <= 700.00:\n",
    "    newSalary = initialSalary * 1.15\n",
    "    contrast = newSalary - initialSalary\n",
    "    print(f'Salário antes do reajusto: {initialSalary:.2f}')\n",
    "    print(f'O Percentual de aumento aplicado foi de: 15%')\n",
    "    print(f'O salario aumentou {contrast:.2f}')\n",
    "    print(f'Salário com aumento: {newSalary:.2f}')\n",
    "elif initialSalary <= 1500.00:\n",
    "    newSalary = initialSalary * 1.10\n",
    "    contrast = newSalary - initialSalary\n",
    "    print(f'Salário antes do reajusto: {initialSalary:.2f}')\n",
    "    print(f'O Percentual de aumento aplicado foi de: 10%')\n",
    "    print(f'O salario aumentou {contrast:.2f}')\n",
    "    print(f'Salário com aumento: {newSalary:.2f}')\n",
    "else:\n",
    "    newSalary = initialSalary * 1.05\n",
    "    contrast = newSalary - initialSalary\n",
    "    print(f'Salário antes do reajusto: {initialSalary:.2f}')\n",
    "    print(f'O Percentual de aumento aplicado foi de: 5%')\n",
    "    print(f'O salario aumentou {contrast:.2f}')\n",
    "    print(f'Salário com aumento: {newSalary:.2f}')"
   ]
  }
 ],
 "metadata": {
  "kernelspec": {
   "display_name": "Python 3",
   "language": "python",
   "name": "python3"
  },
  "language_info": {
   "codemirror_mode": {
    "name": "ipython",
    "version": 3
   },
   "file_extension": ".py",
   "mimetype": "text/x-python",
   "name": "python",
   "nbconvert_exporter": "python",
   "pygments_lexer": "ipython3",
   "version": "3.10.6 (tags/v3.10.6:9c7b4bd, Aug  1 2022, 21:53:49) [MSC v.1932 64 bit (AMD64)]"
  },
  "orig_nbformat": 4,
  "vscode": {
   "interpreter": {
    "hash": "369f2c481f4da34e4445cda3fffd2e751bd1c4d706f27375911949ba6bb62e1c"
   }
  }
 },
 "nbformat": 4,
 "nbformat_minor": 2
}
