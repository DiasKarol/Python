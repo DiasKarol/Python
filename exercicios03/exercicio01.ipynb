{
 "cells": [
  {
   "attachments": {},
   "cell_type": "markdown",
   "metadata": {},
   "source": [
    "Exercício 003-1: Desenvolva um programa que simule o funcionamento de uma máquina de somar.\n",
    "Entrada:\n",
    "O seu programa receberá um número inteiro não negativo N que denota a quantidade de números que seu\n",
    "programa receberá para computar o valor total da soma. Na sequência seu programa receberá N números reais.\n",
    "Saída:\n",
    "O seu programa deve imprimir a frase “Total: ” seguida do valor da soma (com duas casas decimais de precisão).\n",
    "Exemplos:\n",
    "\n",
    "Entrada         Saída\n",
    "3               Total: 10.75\n",
    "7.00\n",
    "1.50\n",
    "2.25"
   ]
  },
  {
   "cell_type": "code",
   "execution_count": 5,
   "metadata": {},
   "outputs": [
    {
     "name": "stdout",
     "output_type": "stream",
     "text": [
      "Quantidade deve ser positiva!\n",
      "Total: 10.75\n"
     ]
    }
   ],
   "source": [
    "N = 0\n",
    "while (N <= 0):\n",
    "    while True:\n",
    "        try:\n",
    "            N = int(input('Quantos números serão informados: '))\n",
    "            break\n",
    "        except ValueError:\n",
    "            print(\"Valor digitado deve ser inteiro\")\n",
    "    if (N <= 0):\n",
    "        print ('Quantidade deve ser positiva!')\n",
    "\n",
    "soma = 0\n",
    "\n",
    "for i in range(0, N):\n",
    "    soma += float(input(f'Informe o {i+1}º número: '))\n",
    "\n",
    "print(f'Total: {soma:.2f}')"
   ]
  }
 ],
 "metadata": {
  "kernelspec": {
   "display_name": "Python 3",
   "language": "python",
   "name": "python3"
  },
  "language_info": {
   "codemirror_mode": {
    "name": "ipython",
    "version": 3
   },
   "file_extension": ".py",
   "mimetype": "text/x-python",
   "name": "python",
   "nbconvert_exporter": "python",
   "pygments_lexer": "ipython3",
   "version": "3.10.6 (tags/v3.10.6:9c7b4bd, Aug  1 2022, 21:53:49) [MSC v.1932 64 bit (AMD64)]"
  },
  "orig_nbformat": 4,
  "vscode": {
   "interpreter": {
    "hash": "369f2c481f4da34e4445cda3fffd2e751bd1c4d706f27375911949ba6bb62e1c"
   }
  }
 },
 "nbformat": 4,
 "nbformat_minor": 2
}
