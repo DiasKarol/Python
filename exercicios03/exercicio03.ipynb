{
 "cells": [
  {
   "attachments": {},
   "cell_type": "markdown",
   "metadata": {},
   "source": [
    "Exercício 003-3:.Crie um programa que permita verificar se um número N é fatorial ou não. N é fatorial caso exista um número X >= 0 tal que N = X!.\n",
    "Entrada: O programa recebe um número inteiro N maior ou igual a zero.\n",
    "Saída: O programa deve imprimir Verdadeiro se N é fatorial, caso contrário deve imprimir Falso.\n",
    "Exemplos: Entrada N e Saída (Verdadeiro ou Falso), não precisa imprimir na mesma linha.\n",
    "1               Verdadeiro\n",
    "2               Verdadeiro\n",
    "3               Falso\n",
    "6               Verdadeiro\n",
    "12              Falso\n",
    "24              Verdadeiro\n",
    "7777            Falso\n",
    "1307674368000   Verdadeiro\n",
    "943675496       Falso"
   ]
  },
  {
   "cell_type": "code",
   "execution_count": 11,
   "metadata": {},
   "outputs": [
    {
     "name": "stdout",
     "output_type": "stream",
     "text": [
      "Falso\n"
     ]
    }
   ],
   "source": [
    "N = 0\n",
    "\n",
    "while (N <= 0):\n",
    "    try:\n",
    "        N = int(input('Informe o número para se saber se ele é fatorial: '))\n",
    "    except ValueError:\n",
    "        print(\"Valor digitado deve ser inteiro\")\n",
    "        continue\n",
    "    if (N <= 0):\n",
    "        print ('Quantidade deve ser positiva!')\n",
    "    else:\n",
    "        break\n",
    "\n",
    "fatorial = 1\n",
    "cont = 1\n",
    "\n",
    "while fatorial < N: \n",
    "    fatorial *= cont\n",
    "    cont += 1\n",
    "\n",
    "if fatorial == N:\n",
    "    print('Verdadeiro')\n",
    "else:\n",
    "    print('Falso')"
   ]
  }
 ],
 "metadata": {
  "kernelspec": {
   "display_name": "Python 3",
   "language": "python",
   "name": "python3"
  },
  "language_info": {
   "codemirror_mode": {
    "name": "ipython",
    "version": 3
   },
   "file_extension": ".py",
   "mimetype": "text/x-python",
   "name": "python",
   "nbconvert_exporter": "python",
   "pygments_lexer": "ipython3",
   "version": "3.10.6 (tags/v3.10.6:9c7b4bd, Aug  1 2022, 21:53:49) [MSC v.1932 64 bit (AMD64)]"
  },
  "orig_nbformat": 4,
  "vscode": {
   "interpreter": {
    "hash": "369f2c481f4da34e4445cda3fffd2e751bd1c4d706f27375911949ba6bb62e1c"
   }
  }
 },
 "nbformat": 4,
 "nbformat_minor": 2
}
